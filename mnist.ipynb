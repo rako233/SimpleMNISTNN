{
 "cells": [
  {
   "cell_type": "markdown",
   "metadata": {},
   "source": [
    "# A Very Simple Neural Network for MNIST Data"
   ]
  },
  {
   "cell_type": "markdown",
   "metadata": {},
   "source": [
    "Import all necessary modules"
   ]
  },
  {
   "cell_type": "code",
   "execution_count": 1,
   "metadata": {},
   "outputs": [
    {
     "name": "stderr",
     "output_type": "stream",
     "text": [
      "Using TensorFlow backend.\n"
     ]
    }
   ],
   "source": [
    "import sys\n",
    "if sys.version_info < (3,6):\n",
    "    raise Exception('This notebook runs with Python 3.6 and higher!')\n",
    "import numpy as np\n",
    "import matplotlib.pyplot as plt\n",
    "from mnist import read,show\n",
    "\n",
    "import keras\n",
    "from keras.models import Sequential\n",
    "from keras.layers import Dense, Activation\n",
    "from keras.regularizers import l2,l1\n",
    "from keras.optimizers import Adam\n",
    "from keras.layers.normalization import BatchNormalization\n",
    "from keras.initializers import zeros,glorot_uniform\n",
    "from keras.backend import one_hot, mean\n",
    "from keras.callbacks import BaseLogger, Callback\n",
    "\n",
    "from IPython.display import clear_output\n",
    "\n",
    "%matplotlib inline\n",
    "np.random.seed(1)\n"
   ]
  },
  {
   "cell_type": "code",
   "execution_count": 2,
   "metadata": {},
   "outputs": [],
   "source": [
    "def convert_to_one_hot(Y, C):\n",
    "    Y = np.eye(C)[Y.reshape(-1)]\n",
    "    return Y\n",
    "\n",
    "def mean_pred(y_true, y_pred):\n",
    "    return mean(y_pred)\n",
    "\n",
    "def imgshow(X, Y, index):\n",
    "    img = X[index].copy().reshape(28,28)\n",
    "    plt.imshow(img)\n",
    "    print(f'Classified as {Y[index].nonzero()[0][0]}')\n",
    "    \n",
    "class LifePlots(keras.callbacks.Callback):\n",
    "    def __init__(self, epochs):\n",
    "        self.epochs = epochs\n",
    "    \n",
    "    def on_train_begin(self, logs={}):\n",
    "        self.i = 0\n",
    "        self.x = []\n",
    "        self.losses = []\n",
    "        self.val_losses = []\n",
    "        self.logs = []\n",
    "        self.acc = []\n",
    "        self.val_acc = []\n",
    "\n",
    "    def on_epoch_end(self, epoch, logs={}):\n",
    "        \n",
    "        self.logs.append(logs)\n",
    "        self.x.append(self.i)\n",
    "        self.losses.append(logs.get('loss'))\n",
    "        self.val_losses.append(logs.get('val_loss'))\n",
    "        self.acc.append(logs.get('acc'))\n",
    "        self.val_acc.append(logs.get('val_acc'))\n",
    "        \n",
    "        \n",
    "        if (self.i%10 == 0) or (self.i==self.epochs-1) or (self.i==0):\n",
    "            clear_output(wait=True)\n",
    "            plt.rcParams[\"figure.figsize\"] = (20,8)            \n",
    "            fig = plt.figure()\n",
    "            ax1 = fig.add_subplot(1,2,1)\n",
    "            ax1.set_title('Losses')\n",
    "            ax1.set_xlabel('Epoch')\n",
    "            ax1.set_xlim([0,self.epochs])\n",
    "            ax1.set_ylim([0.0,self.losses[0]])\n",
    "            ax1.plot(self.x, self.losses, label=\"loss\")\n",
    "            ax1.plot(self.x, self.val_losses, label=\"validation set loss\")\n",
    "            ax1.legend()\n",
    "\n",
    "            ax2 = fig.add_subplot(1,2,2)\n",
    "            ax2.set_title('Accuracy')\n",
    "            ax2.set_xlabel('Epoch')\n",
    "            ax2.set_xlim([0,self.epochs])\n",
    "            ax2.set_ylim([0,1.])\n",
    "            ax2.plot(self.x, self.acc, label=\"accuracy\")\n",
    "            ax2.plot(self.x, self.val_acc, label=\"validation set acc\")\n",
    "            ax2.legend()\n",
    "            plt.show();\n",
    "                \n",
    "            print(f\"Acc:    {self.acc[-1]:8.4f} Loss:    {self.losses[-1]:8.4f}\")            \n",
    "            print(f\"Dev-Acc:{self.val_acc[-1]:8.4f} Dev-Loss:{self.val_losses[-1]:8.4f}\")\n",
    "        \n",
    "        \n",
    "        self.i += 1\n",
    "\n",
    "callback_plot = None\n",
    "\n",
    "def init_plot(epochs):\n",
    "    global callback_plot\n",
    "    \n",
    "    callback_plot = LifePlots(epochs)\n",
    "    return callback_plot\n",
    "    "
   ]
  },
  {
   "cell_type": "markdown",
   "metadata": {},
   "source": [
    "Read the data from files and reshape the data for the neural network"
   ]
  },
  {
   "cell_type": "code",
   "execution_count": 3,
   "metadata": {
    "collapsed": true
   },
   "outputs": [],
   "source": [
    "Y_train,X_train = read(dataset='training')\n",
    "Y_test,X_test = read(dataset='testing')\n",
    "\n",
    "Y_train = convert_to_one_hot(Y_train,10)\n",
    "Y_test = convert_to_one_hot(Y_test,10)\n",
    "\n",
    "# Data sizes\n",
    "N_train = X_train.shape[0]\n",
    "N_test = X_test.shape[0] // 2 # This is for the later split \n",
    "\n",
    "# Picture size\n",
    "pic_x = X_train.shape[1]\n",
    "pic_y = X_train.shape[2]\n",
    "N_pixels = pic_x * pic_y\n",
    "\n",
    "# Reshape the data\n",
    "X_train = X_train.reshape([N_train,N_pixels])\n",
    "X_test = X_test.reshape([X_test.shape[0],N_pixels])"
   ]
  },
  {
   "cell_type": "markdown",
   "metadata": {},
   "source": [
    "The test set is consisting of two parts. The first half has centered numbers and the second half isn't preprocessed, which is basically a different distribution."
   ]
  },
  {
   "cell_type": "code",
   "execution_count": 4,
   "metadata": {},
   "outputs": [
    {
     "name": "stdout",
     "output_type": "stream",
     "text": [
      "X train (60000, 784)\n",
      "Y train (60000, 10)\n",
      "X dev (5000, 784)\n",
      "Y dev (5000, 10)\n",
      "X test (5000, 784)\n",
      "Y test (5000, 10)\n"
     ]
    }
   ],
   "source": [
    "# Split the test into dev and test set\n",
    "X_dev = X_test[N_test:]\n",
    "Y_dev = Y_test[N_test:]\n",
    "X_test = X_test[0:N_test]\n",
    "Y_test = Y_test[0:N_test]\n",
    "\n",
    "print(f'X train {X_train.shape}')\n",
    "print(f'Y train {Y_train.shape}')\n",
    "\n",
    "print(f'X dev {X_dev.shape}')\n",
    "print(f'Y dev {Y_dev.shape}')\n",
    "\n",
    "print(f'X test {X_test.shape}')\n",
    "print(f'Y test {Y_test.shape}')"
   ]
  },
  {
   "cell_type": "markdown",
   "metadata": {},
   "source": [
    "### Hyperparameters"
   ]
  },
  {
   "cell_type": "code",
   "execution_count": 5,
   "metadata": {
    "collapsed": true
   },
   "outputs": [],
   "source": [
    "# These parameters are fitted for GPU. \n",
    "lamda  = 0.002\n",
    "lr     = 0.004\n",
    "epochs = 600\n",
    "batch  = 20000\n",
    "seed   = 234\n",
    "\n",
    "# This gives the number of nodes for all layers from 1 to N-1. The output layer is not included\n",
    "layerdata = [12,15,15,15,15,15] \n",
    "\n",
    "# Choose the activation function\n",
    "activation_func = 'relu'"
   ]
  },
  {
   "cell_type": "markdown",
   "metadata": {},
   "source": [
    "### Model"
   ]
  },
  {
   "cell_type": "code",
   "execution_count": 6,
   "metadata": {
    "scrolled": false
   },
   "outputs": [
    {
     "data": {
      "image/png": "[encoded data removed]",
      "text/plain": [
       "<matplotlib.figure.Figure at 0x7f352dcd24a8>"
      ]
     },
     "metadata": {},
     "output_type": "display_data"
    },
    {
     "name": "stdout",
     "output_type": "stream",
     "text": [
      "Acc:      0.9695 Loss:      0.2361\n",
      "Dev-Acc:  0.9520 Dev-Loss:  0.2993\n"
     ]
    }
   ],
   "source": [
    "model = Sequential()\n",
    "\n",
    "# Layer 1\n",
    "model.add(Dense(units=layerdata[0], \n",
    "                input_shape=(N_pixels,),\n",
    "                kernel_regularizer=l2(lamda),\n",
    "                #bias_regularizer=l2(lamda),                \n",
    "                kernel_initializer=glorot_uniform(seed=seed),\n",
    "                bias_initializer=zeros()))\n",
    "\n",
    "model.add(BatchNormalization())\n",
    "model.add(Activation(activation_func))\n",
    "\n",
    "# Layers from 2 to N-1\n",
    "for u in layerdata[1:]:\n",
    "    model.add(Dense(units=u, \n",
    "                    kernel_regularizer=l2(lamda),\n",
    "                    #bias_regularizer=l2(lamda),                \n",
    "                    kernel_initializer=glorot_uniform(seed=seed),\n",
    "                    bias_initializer=zeros()))\n",
    "\n",
    "    model.add(Activation(activation_func))\n",
    "    \n",
    "# Output layer\n",
    "model.add(Dense(\n",
    "        units=10,\n",
    "        kernel_regularizer=l2(lamda),\n",
    "        #bias_regularizer=l2(lamda),                \n",
    "        kernel_initializer=glorot_uniform(seed=seed),\n",
    "        bias_initializer=zeros()\n",
    "        ))\n",
    "\n",
    "model.add(Activation('softmax'))\n",
    "\n",
    "\n",
    "# Train the model\n",
    "model.compile(optimizer=Adam(lr=lr, beta_1=0.9, beta_2=0.999, epsilon=1e-08, decay=0.0),\n",
    "              loss='categorical_crossentropy',\n",
    "              metrics=['accuracy'])\n",
    "\n",
    "init_plot(epochs)\n",
    "\n",
    "history = model.fit(X_train, Y_train, \n",
    "                    validation_data=[X_dev,Y_dev],\n",
    "                    epochs=epochs, \n",
    "                    batch_size=batch, \n",
    "                    callbacks=[callback_plot],\n",
    "                    verbose=0, \n",
    "                    shuffle=True)\n"
   ]
  },
  {
   "cell_type": "markdown",
   "metadata": {},
   "source": [
    "### Evaluate the test set"
   ]
  },
  {
   "cell_type": "code",
   "execution_count": 7,
   "metadata": {},
   "outputs": [
    {
     "name": "stdout",
     "output_type": "stream",
     "text": [
      "The accuracy for the test set is 0.9115997552871704\n"
     ]
    }
   ],
   "source": [
    "result = model.evaluate(X_test, Y_test, batch_size=batch, verbose=0)\n",
    "print(f\"The accuracy for the test set is {result[1]}\")"
   ]
  },
  {
   "cell_type": "markdown",
   "metadata": {},
   "source": [
    "### Check an image"
   ]
  },
  {
   "cell_type": "code",
   "execution_count": 8,
   "metadata": {},
   "outputs": [
    {
     "name": "stdout",
     "output_type": "stream",
     "text": [
      "Classified as 6\n"
     ]
    },
    {
     "data": {
      "image/png": "[encoded data removed]",
      "text/plain": [
       "<matplotlib.figure.Figure at 0x7f355063ec50>"
      ]
     },
     "metadata": {},
     "output_type": "display_data"
    }
   ],
   "source": [
    "index = 123\n",
    "\n",
    "imgshow(X_test,Y_test, index)"
   ]
  },
  {
   "cell_type": "markdown",
   "metadata": {},
   "source": [
    "### Get the prediction"
   ]
  },
  {
   "cell_type": "code",
   "execution_count": 10,
   "metadata": {},
   "outputs": [
    {
     "name": "stdout",
     "output_type": "stream",
     "text": [
      "The prediction for this image is 6\n"
     ]
    }
   ],
   "source": [
    "prediction = np.argmax(model.predict(X_test[index].reshape([1,N_pixels])))\n",
    "print(f'The prediction for this image is {prediction}')"
   ]
  }
 ],
 "metadata": {
  "kernelspec": {
   "display_name": "Python 3",
   "language": "python",
   "name": "python3"
  },
  "language_info": {
   "codemirror_mode": {
    "name": "ipython",
    "version": 3
   },
   "file_extension": ".py",
   "mimetype": "text/x-python",
   "name": "python",
   "nbconvert_exporter": "python",
   "pygments_lexer": "ipython3",
   "version": "3.6.3"
  }
 },
 "nbformat": 4,
 "nbformat_minor": 2
}
